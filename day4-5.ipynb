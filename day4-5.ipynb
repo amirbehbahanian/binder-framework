{
 "cells": [
  {
   "cell_type": "code",
   "execution_count": null,
   "id": "9952b628",
   "metadata": {},
   "outputs": [],
   "source": [
    "import pandas as pd\n",
    "import numpy as np\n",
    "from datetime import datetime\n",
    "import math\n",
    "import matplotlib.pyplot as plt"
   ]
  },
  {
   "cell_type": "code",
   "execution_count": null,
   "id": "581ea245",
   "metadata": {},
   "outputs": [],
   "source": [
    "df = pd.read_csv('Value_of_Energy_Cost_Savings_Program_Savings_for_Businesses_-_FY2020.csv')\n",
    "num_companies = len(df)"
   ]
  },
  {
   "cell_type": "code",
   "execution_count": 93,
   "id": "9e9a7380",
   "metadata": {},
   "outputs": [
    {
     "data": {
      "text/plain": [
       "Index(['Company Name', 'company contact', 'company email', 'company phone',\n",
       "       'Address', 'City', 'State', 'Postcode', 'Industry', 'Industry descr',\n",
       "       'Company Type', 'Current fulltime', 'Job created', 'Job retain',\n",
       "       'Effective Date', 'Total Savings',\n",
       "       'Savings from beginning receiving benefits', 'Borough', 'Latitude',\n",
       "       'Longitude', 'Community Board', 'Council District', 'Census Tract',\n",
       "       'BIN', 'BBL', 'NTA'],\n",
       "      dtype='object')"
      ]
     },
     "execution_count": 93,
     "metadata": {},
     "output_type": "execute_result"
    }
   ],
   "source": [
    "df.columns"
   ]
  },
  {
   "cell_type": "code",
   "execution_count": null,
   "id": "1976da3f",
   "metadata": {},
   "outputs": [],
   "source": [
    "num_jobs_Queends = df[df['City']=='Queens']['Job created'].sum()"
   ]
  },
  {
   "cell_type": "code",
   "execution_count": null,
   "id": "bc2762fd",
   "metadata": {},
   "outputs": [],
   "source": [
    "num_uniques_emails = df['company email'].drop_duplicates().count()"
   ]
  },
  {
   "cell_type": "markdown",
   "id": "c023cf7a",
   "metadata": {},
   "source": [
    "- Considering only NTAs with at least 5 listed businesses, what is the average total savings and the total jobs created for each NTA?"
   ]
  },
  {
   "cell_type": "code",
   "execution_count": null,
   "id": "ef88ddf5",
   "metadata": {},
   "outputs": [],
   "source": [
    "result = []\n",
    "for i in range(len(pd.DataFrame(df.groupby(by='NTA')))):\n",
    "    if  pd.DataFrame(df.groupby(by='NTA')).iloc[i,1].shape[0]>5:\n",
    "        NTA = pd.DataFrame(df.groupby(by='NTA'))[0][i]\n",
    "        mean_avg = pd.DataFrame(df.groupby(by='NTA')).iloc[i,1]['Total Savings'].mean()\n",
    "        jobs_created = pd.DataFrame(df.groupby(by='NTA')).iloc[i,1]['Job created'].sum()\n",
    "        result.append([NTA, mean_avg, jobs_created])"
   ]
  },
  {
   "cell_type": "markdown",
   "id": "aadc18f6",
   "metadata": {},
   "source": [
    "- scatter plot of jobs created versus average savings. Use both a standard and a logarithmic scale for the average savings.\n",
    "\n",
    "- histogram of the log of the average total savings.\n",
    "\n",
    "- line plot of the total jobs created for each month."
   ]
  },
  {
   "cell_type": "code",
   "execution_count": null,
   "id": "cb6d1d01",
   "metadata": {},
   "outputs": [],
   "source": [
    "plt.scatter(df['Job created'], df['Savings from beginning receiving benefits'])\n",
    "plt.yscale('log')"
   ]
  },
  {
   "cell_type": "code",
   "execution_count": null,
   "id": "3f0ab7bf",
   "metadata": {},
   "outputs": [],
   "source": [
    "plt.hist(df['Total Savings'])\n",
    "plt.yscale('log')"
   ]
  },
  {
   "cell_type": "code",
   "execution_count": 112,
   "id": "a9969d33",
   "metadata": {},
   "outputs": [],
   "source": [
    "df.index = pd.to_datetime(df['Effective Date'],format='%m/%d/%Y')\n",
    "AVG_month = pd.DataFrame( df.groupby(by=[df.index.month, df.index.year]) )\n",
    "AVG = []\n",
    "date = []\n",
    "for i in range(len(AVG_month)):\n",
    "    AVG.append( AVG_month.iloc[i,1]['Job created'].sum() )\n",
    "    date.append( AVG_month.iloc[i,0] )"
   ]
  },
  {
   "cell_type": "code",
   "execution_count": 127,
   "id": "51e9fddb",
   "metadata": {},
   "outputs": [
    {
     "data": {
      "text/plain": [
       "[<matplotlib.lines.Line2D at 0x1bec90be5c8>]"
      ]
     },
     "execution_count": 127,
     "metadata": {},
     "output_type": "execute_result"
    },
    {
     "data": {
      "image/png": "[encoded data removed]",
      "text/plain": [
       "<Figure size 432x288 with 1 Axes>"
      ]
     },
     "metadata": {
      "needs_background": "light"
     },
     "output_type": "display_data"
    }
   ],
   "source": [
    "plt.plot(AVG)"
   ]
  }
 ],
 "metadata": {
  "kernelspec": {
   "display_name": "Python 3",
   "language": "python",
   "name": "python3"
  },
  "language_info": {
   "codemirror_mode": {
    "name": "ipython",
    "version": 3
   },
   "file_extension": ".py",
   "mimetype": "text/x-python",
   "name": "python",
   "nbconvert_exporter": "python",
   "pygments_lexer": "ipython3",
   "version": "3.7.9"
  }
 },
 "nbformat": 4,
 "nbformat_minor": 5
}
